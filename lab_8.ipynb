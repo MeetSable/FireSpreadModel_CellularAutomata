{
 "cells": [
  {
   "cell_type": "code",
   "execution_count": 1,
   "metadata": {},
   "outputs": [],
   "source": [
    "from FireSpreadModel import FireSpreadModel"
   ]
  },
  {
   "cell_type": "code",
   "execution_count": null,
   "metadata": {},
   "outputs": [],
   "source": [
    "# fire(50, 0.8, 0.002, 0.000001, 0.25, 50)\n",
    "n = 50\n",
    "probBurning = 0.002\n",
    "probLightning = 0\n",
    "probImmune = 0.25\n",
    "t = 50\n",
    "\n",
    "\n",
    "\n",
    "for prob in range (0,100,5):\n",
    "    probTree = prob/100\n",
    "    fireModel = FireSpreadModel(n, probTree, probBurning, probLightning, probImmune, t)\n",
    "\n",
    "\n"
   ]
  }
 ],
 "metadata": {
  "interpreter": {
   "hash": "37d8c891d29524cf6437f1f867ab0ccb4a53efdf3e0ca6a9a3d05f47881818de"
  },
  "kernelspec": {
   "display_name": "Python 3.10.0 64-bit",
   "language": "python",
   "name": "python3"
  },
  "language_info": {
   "codemirror_mode": {
    "name": "ipython",
    "version": 3
   },
   "file_extension": ".py",
   "mimetype": "text/x-python",
   "name": "python",
   "nbconvert_exporter": "python",
   "pygments_lexer": "ipython3",
   "version": "3.10.0"
  },
  "orig_nbformat": 4
 },
 "nbformat": 4,
 "nbformat_minor": 2
}
